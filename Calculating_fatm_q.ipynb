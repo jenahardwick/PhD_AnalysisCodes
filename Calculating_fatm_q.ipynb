{
 "cells": [
  {
   "cell_type": "code",
   "execution_count": 85,
   "metadata": {},
   "outputs": [],
   "source": [
    "import numpy             as     np\n",
    "import math\n",
    "import matplotlib.pyplot as     plt\n",
    "from   hyperfit.linfit   import LinFit\n",
    "from   astropy.table     import Table\n",
    "from   astropy.cosmology import FlatLambdaCDM\n",
    "from   matplotlib.pyplot import cm\n",
    "import matplotlib\n",
    "from   scipy.special     import gamma\n",
    "from   scipy             import interpolate\n",
    "from   scipy             import stats\n",
    "\n",
    "import pickle\n",
    "import time\n",
    "import progressbar\n",
    "from   useful_functions  import *\n",
    "\n",
    "#For making multiple page pdfs\n",
    "from matplotlib.backends.backend_pdf import PdfPages"
   ]
  },
  {
   "cell_type": "code",
   "execution_count": 86,
   "metadata": {},
   "outputs": [
    {
     "name": "stdout",
     "output_type": "stream",
     "text": [
      "Reading in catalogues...\n",
      "Catalogues loaded\n"
     ]
    }
   ],
   "source": [
    "# _________________________________________________________\n",
    "# _________________________________________________________\n",
    "# -- Import files -- #\n",
    "#                                       ... must always run\n",
    "# _________________________________________________________\n",
    "\n",
    "#First import the catalogue into an astropy.table (This is the catalogue I made with physical units included)\n",
    "print('Reading in catalogues...')\n",
    "\n",
    "#Path where all the files are for this/ where this code is located\n",
    "path = '/home/jenniferhardwick/Insync/21514305@student.uwa.edu.au/OneDrive Biz/PhD/Project2_codes/'\n",
    "\n",
    "#-------\n",
    "#-------\n",
    "#Switch to True or False depending if you want to have MW Extinction\n",
    "MW_Extinction_On = True\n",
    "#-------\n",
    "#-------\n",
    "\n",
    "# --\n",
    "#Loading files from \"BuildingProfiles_of_xGASS.ipynb\"\n",
    "if MW_Extinction_On:\n",
    "    mydata = Table.read('/home/jenniferhardwick/Insync/21514305@student.uwa.edu.au/OneDrive Biz/PhD/xGASS_Decomposition_Catalogue/Catalogues/xGASS_Decomposition_Catalogue_PHYSICAL+MWExtinction_v3.fits')\n",
    "else:\n",
    "    mydata = Table.read('/home/jenniferhardwick/Insync/21514305@student.uwa.edu.au/OneDrive Biz/PhD/xGASS_Decomposition_Catalogue/Catalogues/xGASS_Decomposition_Catalogue_PHYSICAL_v3.fits')\n",
    "    \n",
    "# -- For some reason it imports strings as 'byte10' instead, so convert them to strings:\n",
    "key = mydata.keys() \n",
    "for idx in range(len(key)):\n",
    "    if mydata.dtype[idx] == object:\n",
    "        mydata[key[idx]] = mydata[key[idx]].str.decode(\"utf-8\")\n",
    "\n",
    "#--\n",
    "        \n",
    "print('Catalogues loaded')\n",
    "\n",
    "#Define our cosmology to be flat with the following values.\n",
    "cosmo = FlatLambdaCDM(H0=70,Om0=0.3,Tcmb0 = 2.725)"
   ]
  },
  {
   "cell_type": "code",
   "execution_count": 87,
   "metadata": {},
   "outputs": [],
   "source": [
    "# _________________________________________________________\n",
    "# _________________________________________________________\n",
    "# -- Import Obreschkow+2016 data -- #\n",
    "#                                       ... must always run\n",
    "# _________________________________________________________\n",
    "\n",
    "#f = open(path+'Catalogues/obreschkow2016.txt', 'r')\n",
    "#print(f.read()) \n",
    "\n",
    "O16_source = []\n",
    "O16_lgfatm = []\n",
    "O16_lgq = []\n",
    "\n",
    "i = 0\n",
    "with open(path+'Catalogues/obreschkow2016.txt', 'r') as infile:\n",
    "    for line in infile:\n",
    "        if i < 5:\n",
    "            pass\n",
    "        elif line.split()[0] == 'GASS':\n",
    "                pass\n",
    "        else:\n",
    "            O16_source.append(line.split()[0])\n",
    "            O16_lgfatm.append(float(line.split()[2]))\n",
    "            O16_lgq.append(float(line.split()[3]))\n",
    "        i +=1\n",
    "        \n",
    "O16_source = np.array(O16_source)\n",
    "O16_lgfatm = np.array(O16_lgfatm)\n",
    "O16_lgq = np.array(O16_lgq)"
   ]
  },
  {
   "cell_type": "code",
   "execution_count": 88,
   "metadata": {},
   "outputs": [],
   "source": [
    "# _________________________________________________________\n",
    "# _________________________________________________________\n",
    "# -- Loading xCOLD GASS data set for H2 -- #\n",
    "#                                       ... must always run\n",
    "# _________________________________________________________\n",
    "\n",
    "#--\n",
    "#Loading files from the xCOLD GASS public database\n",
    "\n",
    "xCOLD_GASS = Table.read(path+'Catalogues/xCOLDGASS_PubCat.fits')\n",
    "\n",
    "order_mydata = []\n",
    "order_xCOLD_GASS = []\n",
    "for i,GASSID in enumerate(xCOLD_GASS['ID']): #For every id in Mydata\n",
    "    loc = np.argwhere(mydata['GASSID'] == ('GASS'+str(GASSID)))\n",
    "    #First test if the xCOLD_GASS ID exists in my catalogue\n",
    "    if len(loc) == 0:\n",
    "        pass\n",
    "    else:\n",
    "        #If it exists, then we are only interested in the galaxies meeting our selection requirement\\\n",
    "        if (mydata['i'][loc[0][0]] > 30) & (mydata['HIconf_flag'][loc[0][0]] == 0):\n",
    "            order_mydata.append(loc[0][0]) #find that ID in repsample and record its location  \n",
    "            order_xCOLD_GASS.append(i)     #Record that ID as one that we will study"
   ]
  },
  {
   "cell_type": "code",
   "execution_count": 89,
   "metadata": {},
   "outputs": [],
   "source": [
    "i = mydata['i']\n",
    "\n",
    "Model = mydata['Model'] # 0  = 2 component\n",
    "                        # 1  = pure disk\n",
    "                        # 2  = pure bulge\n",
    "                        # -1 = no fit possible\n",
    "\n",
    "HI = mydata['HIconf_flag'] # 0        = HI Detected no confusion, \n",
    "                           # 1        = HI detected and definite confusion\n",
    "                           # 0<flag<1 = HI detected and possible confusion\n",
    "                           # -99      = HI not detected"
   ]
  },
  {
   "cell_type": "code",
   "execution_count": 124,
   "metadata": {},
   "outputs": [],
   "source": [
    "import scipy\n",
    "\n",
    "def sudo_sersic(r,n,a):\n",
    "    bn =  2*n - 1/3 + 0.009876/n\n",
    "    return a*np.exp(-bn*r**(1./n))\n",
    "\n",
    "r_RHI  = np.array([0.100000,0.200000,0.300000,0.400000,0.500000,0.600000,0.700000,0.800000,0.900000,1.00000,1.10000 ,1.20000 ,1.3]) #r/R_HI\n",
    "Sig_HI= np.array([5.50455 ,5.82575 ,5.47971 ,5.21774 ,4.42226 ,3.56687 ,2.69376 ,2.04850 ,1.45364 ,1.00281,0.643707,0.368113,0.2]) #Msun/pc^2\n",
    "\n",
    "popt, pcov = scipy.optimize.curve_fit(sudo_sersic,r_RHI,Sig_HI)"
   ]
  },
  {
   "cell_type": "code",
   "execution_count": 133,
   "metadata": {},
   "outputs": [
    {
     "name": "stdout",
     "output_type": "stream",
     "text": [
      "[0.86854866 7.02150141]\n"
     ]
    },
    {
     "data": {
      "text/plain": [
       "[<matplotlib.lines.Line2D at 0x7f8b21b422b0>]"
      ]
     },
     "execution_count": 133,
     "metadata": {},
     "output_type": "execute_result"
    },
    {
     "data": {
      "image/png": "[encoded data removed]",
      "text/plain": [
       "<Figure size 432x288 with 1 Axes>"
      ]
     },
     "metadata": {
      "needs_background": "light"
     },
     "output_type": "display_data"
    }
   ],
   "source": [
    "print(popt)\n",
    "plt.plot(np.log10(r_RHI),np.log10(Sig_HI))\n",
    "plt.plot(np.log10(r_RHI),np.log10(sudo_sersic(r_RHI,popt[0],popt[1])))"
   ]
  },
  {
   "cell_type": "code",
   "execution_count": 61,
   "metadata": {},
   "outputs": [
    {
     "name": "stderr",
     "output_type": "stream",
     "text": [
      "/home/jenniferhardwick/Insync/21514305@student.uwa.edu.au/OneDrive Biz/PhD/Project2_codes/useful_functions.py:41: RuntimeWarning: Mean of empty slice\n",
      "  return np.nansum(np.nanmean([Func[i],Func[i+one]])*(R[i+one]-R[i]))\n"
     ]
    }
   ],
   "source": [
    "# _________________________________________________________\n",
    "# _________________________________________________________\n",
    "# -- Determine j_{HI} -- #\n",
    "# _________________________________________________________\n",
    "\n",
    "#here is the median HI profile sent by Jing Wang, (Wang+2016).\n",
    "#The data points are radius in units of R_HI (r/R_HI) and HI mass surface density in Msun/pc^2 (you might want to plot this as log):\n",
    "\n",
    "r_RHI  = np.array([0.100000,0.200000,0.300000,0.400000,0.500000,0.600000,0.700000,0.800000,0.900000,1.00000,1.10000 ,1.20000 ,1.3]) #r/R_HI\n",
    "Sig_HI= np.array([5.50455 ,5.82575 ,5.47971 ,5.21774 ,4.42226 ,3.56687 ,2.69376 ,2.04850 ,1.45364 ,1.00281,0.643707,0.368113,0.2]) #Msun/pc^2\n",
    "\n",
    "#From Wang+2016\n",
    "#R_HI = 0.5 DHI\n",
    "#log10(D_HI) = (0.506 ± 0.003) log10(M_HI) − (3.293 ± 0.009), #D_HI [kpc], M_HI [Msun]\n",
    "\n",
    "rHI = []\n",
    "mydata['j_HI'] = np.zeros(len(mydata['GASSID']))\n",
    "\n",
    "for indx in range(len(mydata['GASSID'])):\n",
    "    D_HI = 10**(0.506*mydata['lgMHI'][indx]-3.293) #[kpc]\n",
    "    R_HI = 0.5*D_HI #[kpc]\n",
    "    r_kpc = r_RHI*R_HI #[kpc]\n",
    "    \n",
    "    mydata['j_HI'][indx] = TotalSpecificAM(r_kpc,Sig_HI,ConstantV(r_kpc,mydata['rot_velocity'][indx])) #[kpc.km.s^-1]\n",
    "    \n",
    "    rHI.append(r_kpc[-1])\n",
    "    \n",
    "Re10 = 10*mydata['re_r_kpc']\n",
    "rHI = np.array(rHI)\n",
    "\n",
    "mydata['HIradius_kpc'] = rHI"
   ]
  },
  {
   "cell_type": "code",
   "execution_count": 62,
   "metadata": {},
   "outputs": [
    {
     "name": "stdout",
     "output_type": "stream",
     "text": [
      "[-6.98897523  0.10491162]\n"
     ]
    },
    {
     "data": {
      "image/png": "[encoded data removed]",
      "text/plain": [
       "<Figure size 432x288 with 1 Axes>"
      ]
     },
     "metadata": {
      "needs_background": "light"
     },
     "output_type": "display_data"
    }
   ],
   "source": [
    "plt.plot(np.log10(r_RHI),np.log10(Sig_HI),color='k')\n",
    "plt.xlabel('$\\log_{10}(r \\ / \\ R_{HI})$',fontsize=13)\n",
    "plt.ylabel('$\\log_{10}(\\Sigma_{HI} \\ / \\ [M_{\\odot} / pc^{2}] )$',fontsize=13)\n",
    "plt.savefig(path+'Figures/HISurfaceDensityProfile.pdf')\n",
    "\n",
    "plt.scatter(np.log10(r_RHI)[-3:],np.log10(Sig_HI)[-3:],color='r')\n",
    "coef = np.polyfit(np.log10(r_RHI)[-3:],np.log10(Sig_HI)[-3:],1)\n",
    "print(coef)\n",
    "poly1d_fn = np.poly1d(coef)\n",
    "plt.plot([np.log10(r_RHI)[-3],0.4],poly1d_fn([np.log10(r_RHI)[-3],0.4]),color='r',ls='--')\n",
    "plt.savefig(path+'Figures/HISurfaceDensityProfile_Extrapolate.pdf')"
   ]
  },
  {
   "cell_type": "code",
   "execution_count": 63,
   "metadata": {},
   "outputs": [
    {
     "name": "stdout",
     "output_type": "stream",
     "text": [
      "0.48753424060737954\n"
     ]
    },
    {
     "data": {
      "image/png": "[encoded data removed]",
      "text/plain": [
       "<Figure size 432x288 with 1 Axes>"
      ]
     },
     "metadata": {
      "needs_background": "light"
     },
     "output_type": "display_data"
    }
   ],
   "source": [
    "plt.figure()\n",
    "plt.hist(rHI[(i>30)&(HI==0)]/Re10[(i>30)&(HI==0)],color='grey')\n",
    "plt.axvline(np.median(rHI[(i>30)&(HI==0)]/Re10[(i>30)&(HI==0)]),color='r',label='Median')\n",
    "print(np.median(rHI[(i>30)&(HI==0)]/Re10[(i>30)&(HI==0)]))\n",
    "plt.xlabel('$1.3R_{HI} \\ / \\ 10R_{e}$',fontsize=13)\n",
    "plt.ylabel('N',fontsize=13)\n",
    "plt.legend()\n",
    "plt.savefig(path+'Figures/CompareR_e&R_HI.pdf')"
   ]
  },
  {
   "cell_type": "code",
   "execution_count": 64,
   "metadata": {},
   "outputs": [
    {
     "name": "stderr",
     "output_type": "stream",
     "text": [
      "/home/jenniferhardwick/Insync/21514305@student.uwa.edu.au/OneDrive Biz/PhD/Project2_codes/useful_functions.py:41: RuntimeWarning: Mean of empty slice\n",
      "  return np.nansum(np.nanmean([Func[i],Func[i+one]])*(R[i+one]-R[i]))\n"
     ]
    }
   ],
   "source": [
    "# _________________________________________________________\n",
    "# _________________________________________________________\n",
    "# -- Determine j_{HI} -- #\n",
    "# _________________________________________________________\n",
    "\n",
    "#here is the median HI profile sent by Jing Wang, (Wang+2016).\n",
    "#The data points are radius in units of R_HI (r/R_HI) and HI mass surface density in Msun/pc^2 (you might want to plot this as log):\n",
    "\n",
    "r_RHI  = np.array([0.100000,0.200000,0.300000,0.400000,0.500000,0.600000,0.700000,0.800000,0.900000,1.00000,1.10000 ,1.20000 ,1.3]) #r/R_HI\n",
    "Sig_HI= np.array([5.50455 ,5.82575 ,5.47971 ,5.21774 ,4.42226 ,3.56687 ,2.69376 ,2.04850 ,1.45364 ,1.00281,0.643707,0.368113,0.2]) #Msun/pc^2\n",
    "\n",
    "#From Wang+2016\n",
    "#R_HI = 0.5 DHI\n",
    "#log10(D_HI) = (0.506 ± 0.003) log10(M_HI) − (3.293 ± 0.009), #D_HI [kpc], M_HI [Msun]\n",
    "\n",
    "for r in np.arange(1.4,10,0.01):\n",
    "    r_RHI = np.append(r_RHI,r)\n",
    "    Sig_HI = np.append(Sig_HI,coef[1]*r**coef[0])\n",
    "\n",
    "rHI = []\n",
    "mydata['j_HI_Re10'] = np.zeros(len(mydata['GASSID']))\n",
    "\n",
    "Re10 = 10*mydata['re_r_kpc']\n",
    "\n",
    "for indx in range(len(mydata['GASSID'])):\n",
    "    D_HI = 10**(0.506*mydata['lgMHI'][indx]-3.293) #[kpc]\n",
    "    R_HI = 0.5*D_HI #[kpc]\n",
    "    r_kpc = r_RHI*R_HI #[kpc]\n",
    "    \n",
    "    mydata['j_HI_Re10'][indx] = TotalSpecificAM(r_kpc[r_kpc<=Re10[indx]],Sig_HI[r_kpc<=Re10[indx]],ConstantV(r_kpc[r_kpc<=Re10[indx]],mydata['rot_velocity'][indx])) #[kpc.km.s^-1]\n",
    "    \n",
    "    rHI.append(r_kpc[-1])\n",
    "    \n",
    "rHI = np.array(rHI)\n",
    "\n",
    "mydata['HIradius_kpc'] = rHI"
   ]
  },
  {
   "cell_type": "code",
   "execution_count": 65,
   "metadata": {},
   "outputs": [
    {
     "name": "stderr",
     "output_type": "stream",
     "text": [
      "<ipython-input-65-d663a105bfd6>:59: RuntimeWarning: invalid value encountered in log10\n",
      "  M_H2.append(10**(0.94215579*(np.log10(mydata['SFR'][ii])-np.log10(np.pi*Re_r_pc[ii]**2)) + 8.60739493 + np.log10(np.pi*Re_r_pc[ii]**2) ) ) #old method: 10**(1.08817*np.log10(mydata['SFR'][ii])+9.07264)\n"
     ]
    },
    {
     "name": "stdout",
     "output_type": "stream",
     "text": [
      "GASS123007\n",
      "GASS38198\n",
      "-6.7217429720402295\n"
     ]
    }
   ],
   "source": [
    "# _________________________________________________________\n",
    "# _________________________________________________________\n",
    "# -- Determine M_{H2}, fatm & q -- #\n",
    "# _________________________________________________________\n",
    "\n",
    "#f_atm = (1.35 * M_{HI}) / M\n",
    "#M = (M_{*} + 1.35*M_{HI} + M_{H2})\n",
    "\n",
    "#q = (j \\sigma) / GM\n",
    "\n",
    "#---------\n",
    "#---------\n",
    "\n",
    "M_HI   = 10**mydata['lgMHI']\n",
    "\n",
    "#--------\n",
    "\n",
    "M_star  = [] #Disk Stellar Mass\n",
    "Re_r_pc = [] #Half-light radius in the r-band (in pc) \n",
    "j_star  = [] \n",
    "for ii,m in enumerate(mydata['Model']):\n",
    "    if m ==  0:\n",
    "        M_star.append(10**mydata['TotMstar_recover_fixD'][ii])\n",
    "        Re_r_pc.append(mydata['reT_r_kpc'][ii]*1000)\n",
    "        j_star.append(mydata['j_mustar_10Re_brD'][ii])\n",
    "    elif m == 1:\n",
    "        M_star.append(10**mydata['TotMstar_recover_fix'][ii])\n",
    "        Re_r_pc.append(mydata['re_r_kpc'][ii]*1000)\n",
    "        j_star.append(mydata['j_mustar_10Re_brT'][ii])\n",
    "    elif m == 2:\n",
    "        #Because we only want the disk mass, we will ignore pure bulges\n",
    "        M_star.append(0)\n",
    "        Re_r_pc.append(mydata['re_r_kpc'][ii]*1000)\n",
    "        j_star.append(0)\n",
    "    else:\n",
    "        M_star.append(float('nan'))\n",
    "        Re_r_pc.append(float('nan'))\n",
    "        j_star.append(float('nan'))\n",
    "        \n",
    "M_star  = np.array(M_star) \n",
    "Re_r_pc = np.array(Re_r_pc)\n",
    "j_star  = np.array(j_star) \n",
    "\n",
    "#--------\n",
    "\n",
    "\n",
    "\n",
    "M_H2 = [] #H2 Mass\n",
    "M_H2_upplim = []\n",
    "detect_flag = [] # 0 = detection, 1 = lower limit, 2 = estimate\n",
    "for ii,g in enumerate(mydata['GASSID']):\n",
    "    loc = np.argwhere(xCOLD_GASS['ID'] == int(g[4:]))\n",
    "    if len(loc) != 0:\n",
    "        if xCOLD_GASS['LOGMH2'][loc] !=0.0:\n",
    "            M_H2.append(10**xCOLD_GASS['LOGMH2'][loc][0][0])\n",
    "            M_H2_upplim.append(float('nan'))\n",
    "            detect_flag.append(0)\n",
    "        elif xCOLD_GASS['LIM_LOGMH2'][loc]!=0:\n",
    "            M_H2.append(10**(0.94215579*(np.log10(mydata['SFR'][ii])-np.log10(np.pi*Re_r_pc[ii]**2)) + 8.60739493 + np.log10(np.pi*Re_r_pc[ii]**2) ) ) #old method: 10**(1.08817*np.log10(mydata['SFR'][ii])+9.07264)\n",
    "            M_H2_upplim.append(10**xCOLD_GASS['LIM_LOGMH2'][loc][0][0])\n",
    "            detect_flag.append(1)\n",
    "        else:\n",
    "            print('oh no')\n",
    "    elif HI[ii] ==0:\n",
    "        if mydata['SFR'][ii] != -99:\n",
    "            M_H2.append( 10**(0.94215579*(np.log10(mydata['SFR'][ii])-np.log10(np.pi*Re_r_pc[ii]**2)) + 8.60739493 + np.log10(np.pi*Re_r_pc[ii]**2) ) ) #old method: 10**(1.08817*np.log10(mydata['SFR'][ii])+9.07264)\n",
    "            M_H2_upplim.append(float('nan'))\n",
    "        else:\n",
    "            print(g)\n",
    "            M_H2.append(0.2*M_HI[ii])\n",
    "            M_H2_upplim.append(float('nan'))\n",
    "        detect_flag.append(2)\n",
    "    else:\n",
    "        M_H2.append(float('nan'))\n",
    "        M_H2_upplim.append(float('nan'))\n",
    "        detect_flag.append(3)\n",
    "M_H2        = np.array(M_H2)\n",
    "M_H2_upplim = np.array(M_H2_upplim)\n",
    "detect_flag = np.array(detect_flag)\n",
    "\n",
    "#--------\n",
    "\n",
    "#This is the fraction of atomic gas which is the lower limit, as we use H_{2} upper limits.\n",
    "M = M_star + (1.35*M_HI) + M_H2 #Baryonic mass in stellar masses\n",
    "fatm = 1.35*M_HI / M #Unit-less fraction\n",
    "\n",
    "#For galaxies were we are using a H_{2} upper limit, we can also get an upper limit of f_atm by assuming the lower limit of H_{2} -> that there is none.\n",
    "fatm_up = []\n",
    "for ii,d in enumerate(detect_flag):\n",
    "    if d == 1:\n",
    "        fatm_up.append((1.35*M_HI[ii]) / (M_star[ii] + 1.35*(M_HI[ii])))\n",
    "    else:\n",
    "        fatm_up.append(fatm[ii])\n",
    "\n",
    "G = 4.3009125*10**(-6) #kpc (km.s^-1)^2 M_{\\odot}^-1\n",
    "\n",
    "sig = 10 #km.s^-1 #assumed to be constant\n",
    "\n",
    "j_HI = mydata['j_HI']\n",
    "\n",
    "j = (j_star*(M_star+M_H2) + 1.35*j_HI*M_HI)/M #j baryon\n",
    "\n",
    "q = (j*sig)/(G*M) #unit-less\n",
    "\n",
    "#--------\n",
    "print(np.log10(G) - (1/1.12)*np.log10(2.5) - np.log10(sig))\n",
    "#--------\n",
    "\n",
    "mydata['M_H2']            = M_H2        # H_{2} mass from either a detection or approximation (see \"H2_flag\" so distinguishing between types)\n",
    "mydata['LIM_M_H2']        = M_H2_upplim # H_{2} upper limit (if observed but not detected, otherwise NaN)\n",
    "mydata['H2_flag']         = detect_flag # 0 = detection, 1 = Approximation (only upper limit avail.), 2 = Approximation (no xCOLD GASS), 3 = no HI to determine approximation\n",
    "mydata['M_baryon_D']      = M           # M = M_{*,D} + 1.35M_{HI} + M_{H2}\n",
    "mydata['j_baryon_1.3RHI'] = j           # j = (j_star*M_star + j_HI*M_HI)/(M_star + M_HI)\n",
    "mydata['q_1.3RHI']        = q           # q = (j \\sigma) / GM\n",
    "mydata['fatm_D']          = fatm        # f_atm = (1.35 * M_{HI}) / M\n",
    "mydata['fatm_up']         = fatm_up     #upper limit of fatm\n",
    "\n",
    "#--------\n",
    "\n",
    "j_HI = mydata['j_HI_Re10']\n",
    "\n",
    "j = (j_star*(M_star+M_H2) + 1.35*j_HI*M_HI)/M #j baryon\n",
    "\n",
    "q = (j*sig)/(G*M) #unit-less\n",
    "\n",
    "mydata['j_baryon_D'] = j           \n",
    "mydata['q_D']        = q           # q = (j \\sigma) / GM\n",
    "\n",
    "\n",
    "#-------\n",
    "\n",
    "\n",
    "M_star_tot = [] #Stellar Mass\n",
    "for ii,m in enumerate(mydata['Model']):\n",
    "    if m ==  0:\n",
    "        M_star_tot.append(10**mydata['TotMstar_recover_fixT'][ii])\n",
    "    elif m == 1:\n",
    "        M_star_tot.append(10**mydata['TotMstar_recover_fix'][ii])\n",
    "    elif m == 2:\n",
    "        M_star_tot.append(10**mydata['TotMstar_recover_fix'][ii])\n",
    "    else:\n",
    "        M_star_tot.append(float('nan'))\n",
    "M_star_tot = np.array(M_star_tot) \n",
    "\n",
    "M_bar_tot = M_star_tot + (1.35*M_HI) + M_H2   \n",
    "j_bar_tot = (mydata['j_mustar_10Re_brT']*(M_star_tot+M_H2) + 1.35*mydata['j_HI_Re10']*M_HI)/M_bar_tot\n",
    "\n",
    "mydata['M_baryon_T'] = M_bar_tot           # M = M_{*,D} + 1.35M_{HI} + M_{H2}\n",
    "mydata['j_baryon_T'] = j_bar_tot  \n",
    "\n",
    "\n",
    "\n",
    "mydata.write(path+'Catalogues/xGASS_Decomposition_Catalogue_PHYSICAL+MWExtinction_v4.fits',overwrite=True)"
   ]
  },
  {
   "cell_type": "code",
   "execution_count": 66,
   "metadata": {},
   "outputs": [],
   "source": [
    "i = mydata['i']\n",
    "\n",
    "Model = mydata['Model'] # 0  = 2 component\n",
    "                        # 1  = pure disk\n",
    "                        # 2  = pure bulge\n",
    "                        # -1 = no fit possible\n",
    "\n",
    "HI = mydata['HIconf_flag'] # 0        = HI Detected no confusion, \n",
    "                           # 1        = HI detected and definite confusion\n",
    "                           # 0<flag<1 = HI detected and possible confusion\n",
    "                           # -99      = HI not detected"
   ]
  },
  {
   "cell_type": "code",
   "execution_count": 67,
   "metadata": {},
   "outputs": [],
   "source": [
    "##--------------------------------------------------------------------\n",
    "##-- If H_2 was not included in any of the M_bar or j_bar calculations\n",
    "##--------------------------------------------------------------------"
   ]
  },
  {
   "cell_type": "code",
   "execution_count": 68,
   "metadata": {},
   "outputs": [],
   "source": [
    "M_bar_excl_H2 = M_star + (1.35*M_HI)\n",
    "j_bar_excl_H2 = (j_star*(M_star) + 1.35*j_HI*M_HI)/M_bar_excl_H2"
   ]
  },
  {
   "cell_type": "code",
   "execution_count": 69,
   "metadata": {},
   "outputs": [
    {
     "data": {
      "image/png": "[encoded data removed]",
      "text/plain": [
       "<Figure size 576x288 with 2 Axes>"
      ]
     },
     "metadata": {
      "needs_background": "light"
     },
     "output_type": "display_data"
    }
   ],
   "source": [
    "fig, ax = plt.subplots(nrows=1,ncols=2,figsize=(8,4),sharey=True)\n",
    "\n",
    "ax[0].hist(np.log10(mydata['M_baryon_D'][(i>30)&(HI==0)]) - np.log10(M_bar_excl_H2[(i>30)&(HI==0)]),color='k')\n",
    "ax[0].text(0.08,200,'median = '+str(round(np.nanmedian(np.log10(mydata['M_baryon_D'][(i>30)&(HI==0)]) - np.log10(M_bar_excl_H2[(i>30)&(HI==0)])),3)),fontsize=14)\n",
    "\n",
    "ax[0].set_xlabel('$\\log_{10}(M_{bar}\\ / \\ (M_{\\star}+1.35M_{HI}))$',fontsize=16)\n",
    "ax[0].set_ylabel('N',fontsize=16)\n",
    "\n",
    "ax[1].hist(np.log10(mydata['j_baryon_D'][(i>30)&(HI==0)]) - np.log10(j_bar_excl_H2[(i>30)&(HI==0)]),color='k')\n",
    "ax[1].text(-0.05,200,'median = '+str(round(np.nanmedian(np.log10(mydata['j_baryon_D'][(i>30)&(HI==0)]) - np.log10(j_bar_excl_H2[(i>30)&(HI==0)])),3)),fontsize=14)\n",
    "\n",
    "ax[1].set_xlabel('$\\log_{10}(j_{bar}\\ / \\ j_{(\\star + HI)})$',fontsize=16)\n",
    "\n",
    "ax[0].tick_params(direction='in')\n",
    "ax[1].tick_params(direction='in')\n",
    "fig.tight_layout()\n",
    "\n",
    "fig.savefig('/home/jenniferhardwick/Insync/21514305@student.uwa.edu.au/OneDrive Biz/PhD/Thesis_Files/excludingMH2.pdf')"
   ]
  },
  {
   "cell_type": "code",
   "execution_count": 70,
   "metadata": {},
   "outputs": [],
   "source": [
    "##--------------------------------------------------------------------\n",
    "##-- ERRORS BY TAKING MAX AND MIN VALUES\n",
    "##--------------------------------------------------------------------"
   ]
  },
  {
   "cell_type": "code",
   "execution_count": 71,
   "metadata": {},
   "outputs": [
    {
     "name": "stdout",
     "output_type": "stream",
     "text": [
      "M_bar median error = +/- 0.13324621957453475\n"
     ]
    },
    {
     "name": "stderr",
     "output_type": "stream",
     "text": [
      "<ipython-input-71-529119062a50>:11: RuntimeWarning: divide by zero encountered in log10\n",
      "  M_star_max = 10**(np.log10(M_star) + 0.15)\n",
      "<ipython-input-71-529119062a50>:12: RuntimeWarning: divide by zero encountered in log10\n",
      "  M_star_min = 10**(np.log10(M_star) - 0.15)\n"
     ]
    },
    {
     "data": {
      "text/plain": [
       "(array([  5.,   9.,  24.,  39.,  53.,  58.,  77.,  92., 109.,  98.]),\n",
       " array([0.16881314, 0.18222708, 0.19564102, 0.20905496, 0.2224689 ,\n",
       "        0.23588284, 0.24929679, 0.26271073, 0.27612467, 0.28953861,\n",
       "        0.30295255]),\n",
       " <BarContainer object of 10 artists>)"
      ]
     },
     "execution_count": 71,
     "metadata": {},
     "output_type": "execute_result"
    },
    {
     "data": {
      "image/png": "[encoded data removed]",
      "text/plain": [
       "<Figure size 432x288 with 1 Axes>"
      ]
     },
     "metadata": {
      "needs_background": "light"
     },
     "output_type": "display_data"
    }
   ],
   "source": [
    "\n",
    "#  M_bar = M_star + M_mol + 1.35 M_HI\n",
    "\n",
    "# M_mol has an log10(M_H2_error) of 0 to 0.22 with a median of 0.17 (a column in the xCOLD GASS catalogue) -> I think assuming 0.17 is reasonable (doesn't really matter as H_2 contributes so little)\n",
    "# M_star has an error of ~0.15 dex from the light-to-mass conversion in Zibetti+2009\n",
    "#M_HI has an error of ??\n",
    "\n",
    "\n",
    "M_H2_max = 10**(np.log10(M_H2) + 0.17)\n",
    "M_H2_min = 10**(np.log10(M_H2) - 0.17)\n",
    "\n",
    "M_star_max = 10**(np.log10(M_star) + 0.15)\n",
    "M_star_min = 10**(np.log10(M_star) - 0.15)\n",
    "\n",
    "M_HI_max = 10**(np.log10(M_HI) + 0.08)\n",
    "M_HI_min = 10**(np.log10(M_HI) - 0.08)\n",
    "\n",
    "M_bar_max = M_star_max + M_H2_max + 1.35*M_HI_max\n",
    "M_bar_min = M_star_min + M_H2_min + 1.35*M_HI_min\n",
    "\n",
    "print('M_bar median error = +/-',np.nanmedian(np.log10(M_bar_max[(i>30)&(HI==0)])-np.log10(M_bar_min[(i>30)&(HI==0)]))/2.)\n",
    "plt.hist(np.log10(M_bar_max[(i>30)&(HI==0)])-np.log10(M_bar_min[(i>30)&(HI==0)]))"
   ]
  },
  {
   "cell_type": "code",
   "execution_count": 72,
   "metadata": {},
   "outputs": [
    {
     "name": "stdout",
     "output_type": "stream",
     "text": [
      "j_bar median error = +/- 0.2848169933892516\n"
     ]
    },
    {
     "name": "stderr",
     "output_type": "stream",
     "text": [
      "<ipython-input-72-0bb8a14dc380>:9: RuntimeWarning: divide by zero encountered in log10\n",
      "  j_star_max = 10**(np.log10(j_star) + 0.01)\n",
      "<ipython-input-72-0bb8a14dc380>:10: RuntimeWarning: divide by zero encountered in log10\n",
      "  j_star_min = 10**(np.log10(j_star) - 0.01)\n",
      "<ipython-input-72-0bb8a14dc380>:12: RuntimeWarning: divide by zero encountered in log10\n",
      "  j_HI_max = 10**(np.log10(j_HI) + 0.06)\n",
      "<ipython-input-72-0bb8a14dc380>:13: RuntimeWarning: divide by zero encountered in log10\n",
      "  j_HI_min = 10**(np.log10(j_HI) - 0.06)\n"
     ]
    },
    {
     "data": {
      "text/plain": [
       "(array([  6.,  14.,  28.,  57.,  55.,  68.,  71.,  82., 113.,  70.]),\n",
       " array([0.448813  , 0.46666872, 0.48452443, 0.50238014, 0.52023585,\n",
       "        0.53809157, 0.55594728, 0.57380299, 0.5916587 , 0.60951442,\n",
       "        0.62737013]),\n",
       " <BarContainer object of 10 artists>)"
      ]
     },
     "execution_count": 72,
     "metadata": {},
     "output_type": "execute_result"
    },
    {
     "data": {
      "image/png": "[encoded data removed]",
      "text/plain": [
       "<Figure size 432x288 with 1 Axes>"
      ]
     },
     "metadata": {
      "needs_background": "light"
     },
     "output_type": "display_data"
    }
   ],
   "source": [
    "#j = (j_star*(M_star+M_H2) + 1.35*j_HI*M_HI)/M_bar\n",
    "\n",
    "#M_bar error given above\n",
    "\n",
    "#j_star error in paper 1 had a median error of 0.01 dex\n",
    "\n",
    "#j_HI had a median error of \\pm 0.06 dex\n",
    "\n",
    "j_star_max = 10**(np.log10(j_star) + 0.01)\n",
    "j_star_min = 10**(np.log10(j_star) - 0.01)\n",
    "\n",
    "j_HI_max = 10**(np.log10(j_HI) + 0.06)\n",
    "j_HI_min = 10**(np.log10(j_HI) - 0.06)\n",
    "\n",
    "j_bar_max = (j_star_max*(M_star_max+M_H2_max) + 1.35*j_HI_max*M_HI_max)/M_bar_min\n",
    "j_bar_min = (j_star_min*(M_star_min+M_H2_min) + 1.35*j_HI_min*M_HI_min)/M_bar_max\n",
    "\n",
    "print('j_bar median error = +/-',np.nanmedian(np.log10(j_bar_max[(i>30)&(HI==0)])-np.log10(j_bar_min[(i>30)&(HI==0)]))/2.)\n",
    "plt.hist(np.log10(j_bar_max[(i>30)&(HI==0)])-np.log10(j_bar_min[(i>30)&(HI==0)]))"
   ]
  },
  {
   "cell_type": "code",
   "execution_count": 73,
   "metadata": {},
   "outputs": [],
   "source": [
    "##--------------------------------------------------------------------\n",
    "##-- ERRORS BY PROPOGATION\n",
    "##--------------------------------------------------------------------"
   ]
  },
  {
   "cell_type": "code",
   "execution_count": 74,
   "metadata": {},
   "outputs": [],
   "source": [
    "M_bar = M_star + (1.35*M_HI) + M_H2\n",
    "\n",
    "sig_Mstar = np.log(10)*M_star*0.15 #From Zibetti+2009\n",
    "sig_MH2   = np.log(10)*M_H2  *0.17 #From xCOLD GASS catalogue\n",
    "sig_MHI   = np.log(10)*M_HI  *0.08 #From personal correspondence with Barbara\n",
    "\n",
    "sig_Mbar  = np.sqrt( sig_Mstar**2 + sig_MH2**2 + (1.35*sig_MHI)**2 ) \n",
    "dex_Mbar  = (sig_Mbar)/(np.log(10)*M_bar)"
   ]
  },
  {
   "cell_type": "code",
   "execution_count": 75,
   "metadata": {},
   "outputs": [
    {
     "name": "stdout",
     "output_type": "stream",
     "text": [
      "M_bar median error = +/- 0.10543667531661324\n"
     ]
    },
    {
     "data": {
      "image/png": "[encoded data removed]",
      "text/plain": [
       "<Figure size 432x288 with 1 Axes>"
      ]
     },
     "metadata": {
      "needs_background": "light"
     },
     "output_type": "display_data"
    }
   ],
   "source": [
    "plt.hist(dex_Mbar[(i>30)&(HI==0)])\n",
    "print('M_bar median error = +/-',np.nanmedian(dex_Mbar[(i>30)&(HI==0)]))\n"
   ]
  },
  {
   "cell_type": "code",
   "execution_count": 76,
   "metadata": {},
   "outputs": [
    {
     "name": "stderr",
     "output_type": "stream",
     "text": [
      "<ipython-input-76-0e5adf0302d2>:5: RuntimeWarning: invalid value encountered in true_divide\n",
      "  dex_jbar_SIMPLE = (sig_jbar_SIMPLE)/(np.log(10)*j)\n"
     ]
    }
   ],
   "source": [
    "sig_jstar = np.log(10)*j_star*0.01 #From MCMC chain of hyperfit\n",
    "sig_jHI   = np.log(10)*j_HI*0.06   #From width of HI mass-to-size relation\n",
    "\n",
    "sig_jbar_SIMPLE = np.sqrt(sig_jstar**2+(1.35*sig_jHI)**2)\n",
    "dex_jbar_SIMPLE = (sig_jbar_SIMPLE)/(np.log(10)*j)"
   ]
  },
  {
   "cell_type": "code",
   "execution_count": 77,
   "metadata": {},
   "outputs": [
    {
     "name": "stdout",
     "output_type": "stream",
     "text": [
      "SIMPLISTIC j_bar median error = +/- 0.11947254690836515\n"
     ]
    },
    {
     "data": {
      "image/png": "[encoded data removed]",
      "text/plain": [
       "<Figure size 432x288 with 1 Axes>"
      ]
     },
     "metadata": {
      "needs_background": "light"
     },
     "output_type": "display_data"
    }
   ],
   "source": [
    "plt.hist(dex_jbar_SIMPLE[(i>30)&(HI==0)])\n",
    "print('SIMPLISTIC j_bar median error = +/-',np.nanmedian(dex_jbar_SIMPLE[(i>30)&(HI==0)]))"
   ]
  },
  {
   "cell_type": "code",
   "execution_count": 78,
   "metadata": {},
   "outputs": [
    {
     "name": "stderr",
     "output_type": "stream",
     "text": [
      "<ipython-input-78-53d758863b59>:2: RuntimeWarning: invalid value encountered in true_divide\n",
      "  sig_star      = np.sqrt( (sig_jstar/j_star)**2 + (sig_Mstar_MH2/(M_star+M_H2))**2 ) * (j_star*(M_star+M_H2))\n",
      "<ipython-input-78-53d758863b59>:3: RuntimeWarning: invalid value encountered in true_divide\n",
      "  sig_HI        = np.sqrt( (sig_jHI/j_HI)**2 + (sig_MHI/M_HI)**2 ) * (1.35*j_HI*M_HI)\n"
     ]
    }
   ],
   "source": [
    "sig_Mstar_MH2 = np.sqrt(sig_Mstar**2 + sig_MH2**2)\n",
    "sig_star      = np.sqrt( (sig_jstar/j_star)**2 + (sig_Mstar_MH2/(M_star+M_H2))**2 ) * (j_star*(M_star+M_H2))\n",
    "sig_HI        = np.sqrt( (sig_jHI/j_HI)**2 + (sig_MHI/M_HI)**2 ) * (1.35*j_HI*M_HI)\n",
    "numerator     = (j_star*(M_star+M_H2) + 1.35*j_HI*M_HI)\n",
    "sig_numerator = np.sqrt( sig_star**2 + sig_HI**2)\n",
    "\n",
    "sig_jbar     = np.sqrt( (sig_numerator/numerator)**2 + (sig_Mbar/M_bar)**2 ) * j\n",
    "dex_jbar     = (sig_jbar)/(np.log(10)*j)"
   ]
  },
  {
   "cell_type": "code",
   "execution_count": 79,
   "metadata": {},
   "outputs": [
    {
     "name": "stdout",
     "output_type": "stream",
     "text": [
      "j_bar median error = +/- 0.13923194678386747\n"
     ]
    },
    {
     "data": {
      "image/png": "[encoded data removed]",
      "text/plain": [
       "<Figure size 432x288 with 1 Axes>"
      ]
     },
     "metadata": {
      "needs_background": "light"
     },
     "output_type": "display_data"
    }
   ],
   "source": [
    "plt.hist(dex_jbar[(i>30)&(HI==0)])\n",
    "print('j_bar median error = +/-',np.nanmedian(dex_jbar[(i>30)&(HI==0)]))"
   ]
  },
  {
   "cell_type": "code",
   "execution_count": null,
   "metadata": {},
   "outputs": [],
   "source": []
  }
 ],
 "metadata": {
  "kernelspec": {
   "display_name": "Python 3",
   "language": "python",
   "name": "python3"
  },
  "language_info": {
   "codemirror_mode": {
    "name": "ipython",
    "version": 3
   },
   "file_extension": ".py",
   "mimetype": "text/x-python",
   "name": "python",
   "nbconvert_exporter": "python",
   "pygments_lexer": "ipython3",
   "version": "3.8.3"
  }
 },
 "nbformat": 4,
 "nbformat_minor": 4
}
