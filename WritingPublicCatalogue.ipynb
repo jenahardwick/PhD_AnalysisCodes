{
 "cells": [
  {
   "cell_type": "code",
   "execution_count": 1,
   "metadata": {},
   "outputs": [],
   "source": [
    "import numpy             as     np\n",
    "import math\n",
    "import matplotlib.pyplot as     plt\n",
    "from   hyperfit.linfit   import LinFit\n",
    "from   astropy.table     import Table\n",
    "from   astropy.cosmology import FlatLambdaCDM\n",
    "from   matplotlib.pyplot import cm\n",
    "import matplotlib\n",
    "from   scipy.special     import gamma\n",
    "from   scipy             import interpolate\n",
    "from   scipy             import stats\n",
    "\n",
    "import pickle\n",
    "import time\n",
    "import progressbar\n",
    "from   useful_functions  import *\n",
    "\n",
    "#For making multiple page pdfs\n",
    "from matplotlib.backends.backend_pdf import PdfPages"
   ]
  },
  {
   "cell_type": "code",
   "execution_count": 2,
   "metadata": {},
   "outputs": [
    {
     "name": "stdout",
     "output_type": "stream",
     "text": [
      "Reading in catalogues...\n",
      "Catalogues loaded\n"
     ]
    }
   ],
   "source": [
    "# _________________________________________________________\n",
    "# _________________________________________________________\n",
    "# -- Import files -- #\n",
    "#                                       ... must always run\n",
    "# _________________________________________________________\n",
    "\n",
    "#First import the catalogue into an astropy.table (This is the catalogue I made with physical units included)\n",
    "print('Reading in catalogues...')\n",
    "\n",
    "#Path where all the files are for this/ where this code is located\n",
    "path = '/home/jenniferhardwick/Insync/21514305@student.uwa.edu.au/OneDrive Biz/PhD/Project2_codes/'\n",
    "\n",
    "#-------\n",
    "#-------\n",
    "#Switch to True or False depending if you want to have MW Extinction\n",
    "MW_Extinction_On = True\n",
    "#-------\n",
    "#-------\n",
    "\n",
    "# --\n",
    "#Loading files from \"BuildingProfiles_of_xGASS.ipynb\"\n",
    "if MW_Extinction_On:\n",
    "    mydata = Table.read(path+'Catalogues/xGASS_Decomposition_Catalogue_PHYSICAL+MWExtinction_v4.fits')\n",
    "else:\n",
    "    mydata = Table.read(path+'Catalogues/xGASS_Decomposition_Catalogue_PHYSICAL_v4.fits')\n",
    "    \n",
    "# -- For some reason it imports strings as 'byte10' instead, so convert them to strings:\n",
    "key = mydata.keys() \n",
    "for idx in range(len(key)):\n",
    "    if mydata.dtype[idx] == object:\n",
    "        mydata[key[idx]] = mydata[key[idx]].str.decode(\"utf-8\")\n",
    "\n",
    "#--\n",
    "        \n",
    "print('Catalogues loaded')\n",
    "\n",
    "#Define our cosmology to be flat with the following values.\n",
    "cosmo = FlatLambdaCDM(H0=70,Om0=0.3,Tcmb0 = 2.725)"
   ]
  },
  {
   "cell_type": "code",
   "execution_count": 3,
   "metadata": {},
   "outputs": [],
   "source": [
    "i = mydata['i']\n",
    "\n",
    "HI = mydata['HIconf_flag'] # 0        = HI Detected no confusion, \n",
    "                           # 1        = HI detected and definite confusion\n",
    "                           # 0<flag<1 = HI detected and possible confusion\n",
    "                           # -99      = HI not detected\n",
    "\n",
    "Model = mydata['Model'] # 0  = 2 component\n",
    "                        # 1  = pure disk\n",
    "                        # 2  = pure bulge\n",
    "                        # -1 = no fit possible\n",
    "            \n",
    "#----------------------------------------------------------------------------------"
   ]
  },
  {
   "cell_type": "code",
   "execution_count": 4,
   "metadata": {},
   "outputs": [],
   "source": [
    "GASSID_temp = np.array(mydata['GASSID'][(i > 30) & (HI == 0)])\n",
    "GASSID = []\n",
    "for g in GASSID_temp:\n",
    "    GASSID.append(int(g[4:]))\n",
    "GASSID = np.array(GASSID)"
   ]
  },
  {
   "cell_type": "code",
   "execution_count": 5,
   "metadata": {},
   "outputs": [],
   "source": [
    "RA        = np.array(mydata['RA'][          (i > 30) & (HI == 0)])\n",
    "DEC       = np.array(mydata['DEC'][         (i > 30) & (HI == 0)])\n",
    "zSDSS     = np.array(mydata['zSDSS'][       (i > 30) & (HI == 0)])\n",
    "b_a       = np.array(mydata['axrat'][       (i > 30) & (HI == 0)])\n",
    "incl      = np.array(i[                     (i > 30) & (HI == 0)])\n",
    "SFR       = np.array(mydata['SFR'][         (i > 30) & (HI == 0)])\n",
    "EnvCode   = np.array(mydata['EnvCode'][     (i > 30) & (HI == 0)])\n",
    "mol_flag  = np.array(mydata['H2_flag'][     (i > 30) & (HI == 0)]) #In \"mydata\" there is a 0 = detection, 1 = upper limit, 2 = Approximation from HI\n",
    "mol_flag[mol_flag==2] = 1                                          #But ultimately we only care about 0 = detection and 1 = used an approx. to determine mol mass\n",
    "V_rot_HI  = np.array(mydata['rot_velocity'][(i > 30) & (HI == 0)])\n",
    "lg_M_HI   = np.array(mydata['lgMHI'][       (i > 30) & (HI == 0)])\n",
    "lg_M_mol  = np.array(mydata['M_H2'][        (i > 30) & (HI == 0)]) \n",
    "B_T       = np.array(mydata['B/T'][         (i > 30) & (HI == 0)])"
   ]
  },
  {
   "cell_type": "code",
   "execution_count": 6,
   "metadata": {},
   "outputs": [],
   "source": [
    "import pandas            as     pd\n",
    "\n",
    "rob_path = '/home/jenniferhardwick/Insync/21514305@student.uwa.edu.au/OneDrive Biz/PhD/xGASS_Decomposition_Catalogue/Catalogues/'\n",
    "\n",
    "robdata = pd.read_csv(rob_path+'xGASS_Bulge-Disk_Decomposition_Master_10-09-19.csv')\n",
    "\n",
    "order = []\n",
    "for g in mydata['GASSID'][(i > 30) & (HI == 0)]: #For every id in my data\n",
    "    order.append(np.argwhere(np.array(robdata.GASSID) == g)[0][0]) #find that ID in Robins and record its location\n",
    "order = np.array(order)\n",
    "\n",
    "B_T_i     = np.array(robdata['B2T_i'][order]) #Add B_T for i-band as well"
   ]
  },
  {
   "cell_type": "code",
   "execution_count": 7,
   "metadata": {},
   "outputs": [
    {
     "name": "stderr",
     "output_type": "stream",
     "text": [
      "<ipython-input-7-fc2cdc166f1c>:39: DeprecationWarning: `np.float` is a deprecated alias for the builtin `float`. To silence this warning, use `float` by itself. Doing this will not modify any behavior and is safe. If you specifically wanted the numpy scalar type, use `np.float64` here.\n",
      "Deprecated in NumPy 1.20; for more details and guidance: https://numpy.org/devdocs/release/1.20.0-notes.html#deprecations\n",
      "  Re_hl.append(np.float('nan'))\n",
      "<ipython-input-7-fc2cdc166f1c>:40: DeprecationWarning: `np.float` is a deprecated alias for the builtin `float`. To silence this warning, use `float` by itself. Doing this will not modify any behavior and is safe. If you specifically wanted the numpy scalar type, use `np.float64` here.\n",
      "Deprecated in NumPy 1.20; for more details and guidance: https://numpy.org/devdocs/release/1.20.0-notes.html#deprecations\n",
      "  Re_hm.append(np.float('nan'))\n",
      "<ipython-input-7-fc2cdc166f1c>:41: DeprecationWarning: `np.float` is a deprecated alias for the builtin `float`. To silence this warning, use `float` by itself. Doing this will not modify any behavior and is safe. If you specifically wanted the numpy scalar type, use `np.float64` here.\n",
      "Deprecated in NumPy 1.20; for more details and guidance: https://numpy.org/devdocs/release/1.20.0-notes.html#deprecations\n",
      "  M_star_D.append(np.float('nan'))\n",
      "<ipython-input-7-fc2cdc166f1c>:42: DeprecationWarning: `np.float` is a deprecated alias for the builtin `float`. To silence this warning, use `float` by itself. Doing this will not modify any behavior and is safe. If you specifically wanted the numpy scalar type, use `np.float64` here.\n",
      "Deprecated in NumPy 1.20; for more details and guidance: https://numpy.org/devdocs/release/1.20.0-notes.html#deprecations\n",
      "  j_star_D.append(np.float('nan'))\n",
      "<ipython-input-7-fc2cdc166f1c>:43: DeprecationWarning: `np.float` is a deprecated alias for the builtin `float`. To silence this warning, use `float` by itself. Doing this will not modify any behavior and is safe. If you specifically wanted the numpy scalar type, use `np.float64` here.\n",
      "Deprecated in NumPy 1.20; for more details and guidance: https://numpy.org/devdocs/release/1.20.0-notes.html#deprecations\n",
      "  M_star_T.append(np.float('nan'))\n",
      "<ipython-input-7-fc2cdc166f1c>:44: DeprecationWarning: `np.float` is a deprecated alias for the builtin `float`. To silence this warning, use `float` by itself. Doing this will not modify any behavior and is safe. If you specifically wanted the numpy scalar type, use `np.float64` here.\n",
      "Deprecated in NumPy 1.20; for more details and guidance: https://numpy.org/devdocs/release/1.20.0-notes.html#deprecations\n",
      "  j_star_T.append(np.float('nan'))\n"
     ]
    }
   ],
   "source": [
    "Re_hl    = []\n",
    "Re_hm    = []\n",
    "M_star_D = [] \n",
    "j_star_D = [] \n",
    "M_star_T = []\n",
    "j_star_T = [] \n",
    "for ii,m in enumerate(mydata['Model']):\n",
    "    if m ==  0:\n",
    "        Re_hl.append(mydata['reT_r_kpc'][ii])\n",
    "        Re_hm.append( mydata['rmT_kpc_fix'][ii])\n",
    "        \n",
    "        M_star_D.append(mydata['TotMstar_recover_fixD'][ii])\n",
    "        j_star_D.append(mydata['j_mustar_10Re_brD'][ii])\n",
    "        \n",
    "        M_star_T.append(mydata['TotMstar_recover_fixT'][ii])\n",
    "        j_star_T.append(mydata['j_mustar_10Re_brT'][ii])\n",
    "        \n",
    "    elif m == 1:\n",
    "        Re_hl.append(mydata['re_r_kpc'][ii])\n",
    "        Re_hm.append( mydata['rm_kpc_fix'][ii])\n",
    "        \n",
    "        M_star_D.append(mydata['TotMstar_recover_fix'][ii])\n",
    "        j_star_D.append(mydata['j_mustar_10Re_brT'][ii])\n",
    "        \n",
    "        M_star_T.append(mydata['TotMstar_recover_fix'][ii])\n",
    "        j_star_T.append(mydata['j_mustar_10Re_brT'][ii])\n",
    "        \n",
    "    elif m == 2:\n",
    "        Re_hl.append(mydata['re_r_kpc'][ii])\n",
    "        Re_hm.append( mydata['rm_kpc_fix'][ii])\n",
    "        \n",
    "        M_star_D.append(0.0)\n",
    "        j_star_D.append(0.0)\n",
    "        \n",
    "        M_star_T.append(mydata['TotMstar_recover_fix'][ii])\n",
    "        j_star_T.append(mydata['j_mustar_10Re_brT'][ii])\n",
    "        \n",
    "    else:\n",
    "        Re_hl.append(np.float('nan'))\n",
    "        Re_hm.append(np.float('nan'))\n",
    "        M_star_D.append(np.float('nan'))\n",
    "        j_star_D.append(np.float('nan'))\n",
    "        M_star_T.append(np.float('nan'))\n",
    "        j_star_T.append(np.float('nan'))\n",
    "        \n",
    "Re_hl    = np.array(Re_hl) \n",
    "Re_hm    = np.array(Re_hm)        \n",
    "M_star_D = np.array(M_star_D)\n",
    "j_star_D = np.array(j_star_D)\n",
    "M_star_T = np.array(M_star_T)\n",
    "j_star_T = np.array(j_star_T)\n",
    "\n",
    "#---\n",
    "\n",
    "Re_half_light  = np.array(Re_hl[(i > 30) & (HI == 0)])\n",
    "Re_half_mass   = np.array(Re_hm[(i > 30) & (HI == 0)])\n",
    "\n",
    "lg_M_star_disk = np.array(M_star_D[(i > 30) & (HI == 0)]) \n",
    "lg_M_star_disk[Model[(i>30)&(HI==0)]==2] = float('nan') #Set disk properties of pure bulges to a nan\n",
    "j_star_disk    = np.array(j_star_D[(i > 30) & (HI == 0)]) \n",
    "j_star_disk[Model[(i>30)&(HI==0)]==2] = float('nan') #Set disk properties of pure bulges to a nan\n",
    "\n",
    "lg_M_star_total = np.array(M_star_T[(i > 30) & (HI == 0)])                   \n",
    "j_star_total    = np.array(j_star_T[(i > 30) & (HI == 0)]) \n",
    "\n"
   ]
  },
  {
   "cell_type": "code",
   "execution_count": 8,
   "metadata": {},
   "outputs": [],
   "source": [
    "j_star_total_bnr = np.array(mydata['j_mustar_10Re_bnrT'][(i>30)&(HI==0)])\n",
    "j_star_total_Ir  = np.array(mydata['j_Ir_10Re_brT'][     (i>30)&(HI==0)])"
   ]
  },
  {
   "cell_type": "code",
   "execution_count": 9,
   "metadata": {},
   "outputs": [],
   "source": [
    "lg_M_bar_disk  = np.array(np.log10(mydata['M_baryon_D'][(i>30)&(HI==0)]))\n",
    "lg_M_bar_disk[Model[(i>30)&(HI==0)]==2] = float('nan') #Set disk properties of pure bulges to a nan\n",
    "lg_M_bar_total = np.array(np.log10(mydata['M_baryon_T'][(i>30)&(HI==0)]))\n",
    "\n",
    "j_bar_disk  = np.array(mydata['j_baryon_D'][(i>30)&(HI==0)])\n",
    "j_bar_disk[Model[(i>30)&(HI==0)]==2] = float('nan') #Set disk properties of pure bulges to a nan\n",
    "j_bar_total = np.array(mydata['j_baryon_T'][(i>30)&(HI==0)])\n",
    "\n",
    "f_atm_disk  = np.array(mydata['fatm_D'][(i>30)&(HI==0)]) #i.e. 1.35 MHI / Mbar_disk\n",
    "f_atm_disk[Model[(i>30)&(HI==0)]==2] = float('nan') #Set disk properties of pure bulges to a nan\n",
    "f_atm_total = np.array(1.35*(10**lg_M_HI)/(10**lg_M_bar_total)) #i.e. 1.35 MHI / Mbar_diskf_atm_total = 1.35*(10**lg_M_HI)/(10**) #i.e. 1.35 MHI / Mbar_disk"
   ]
  },
  {
   "cell_type": "code",
   "execution_count": 10,
   "metadata": {},
   "outputs": [],
   "source": [
    "RA_sort_idx = sorted(range(len(RA)), key=lambda k: RA[k])"
   ]
  },
  {
   "cell_type": "code",
   "execution_count": 15,
   "metadata": {},
   "outputs": [],
   "source": [
    "mydata_subset = Table([GASSID[RA_sort_idx],  \n",
    "                       RA[RA_sort_idx],  \n",
    "                       DEC[RA_sort_idx],  \n",
    "                       zSDSS[RA_sort_idx],  \n",
    "                       b_a[RA_sort_idx],  \n",
    "                       incl[RA_sort_idx],  \n",
    "                       SFR[RA_sort_idx],  \n",
    "                       EnvCode[RA_sort_idx],  \n",
    "                       mol_flag[RA_sort_idx],  \n",
    "                       Re_half_light[RA_sort_idx],  \n",
    "                       Re_half_mass[RA_sort_idx],  \n",
    "                       V_rot_HI[RA_sort_idx],  \n",
    "                       lg_M_star_disk[RA_sort_idx],  \n",
    "                       lg_M_star_total[RA_sort_idx],  \n",
    "                       lg_M_HI[RA_sort_idx],  \n",
    "                       lg_M_mol[RA_sort_idx],  \n",
    "                       lg_M_bar_disk[RA_sort_idx],  \n",
    "                       lg_M_bar_total[RA_sort_idx],  \n",
    "                       B_T[RA_sort_idx],  \n",
    "                       B_T_i[RA_sort_idx],  \n",
    "                       f_atm_disk[RA_sort_idx],  \n",
    "                       f_atm_total[RA_sort_idx],  \n",
    "                       j_star_disk[RA_sort_idx],  \n",
    "                       j_star_total[RA_sort_idx],  \n",
    "                       j_star_total_bnr[RA_sort_idx],  \n",
    "                       j_star_total_Ir[RA_sort_idx],  \n",
    "                       j_bar_disk[RA_sort_idx],  \n",
    "                       j_bar_total[RA_sort_idx]],\n",
    "                names=('GASSID','RA','DEC','zSDSS','b_a','incl','SFR','EnvCode','mol_flag','Re_half_light','Re_half_mass','V_rot_HI','lg_M_star_disk','lg_M_star_total','lg_M_HI','lg_M_mol','lg_M_bar_disk','lg_M_bar_total','B_T','B_T_i','f_atm_disk','f_atm_total','j_star_disk','j_star_total','j_star_total_bnr','j_star_total_Ir','j_bar_disk','j_bar_total'))\n",
    "\n",
    "mydata_subset.write('/home/jenniferhardwick/Insync/21514305@student.uwa.edu.au/OneDrive Biz/PhD/MyPapers/ObreschkowRelationPaper/xGASS_AngularMomentum.fits',overwrite=True)\n",
    "\n"
   ]
  },
  {
   "cell_type": "code",
   "execution_count": 16,
   "metadata": {},
   "outputs": [
    {
     "data": {
      "text/plain": [
       "<matplotlib.collections.PathCollection at 0x7fdc83024280>"
      ]
     },
     "execution_count": 16,
     "metadata": {},
     "output_type": "execute_result"
    },
    {
     "data": {
      "image/png": "[encoded data removed]",
      "text/plain": [
       "<Figure size 432x288 with 1 Axes>"
      ]
     },
     "metadata": {
      "needs_background": "light"
     },
     "output_type": "display_data"
    }
   ],
   "source": [
    "         \n",
    "plt.scatter(lg_M_star_total,mydata['log10TotM*T'][(i>30)&(HI==0)])"
   ]
  },
  {
   "cell_type": "code",
   "execution_count": 17,
   "metadata": {},
   "outputs": [
    {
     "data": {
      "text/plain": [
       "[<matplotlib.lines.Line2D at 0x7fdc82f21250>]"
      ]
     },
     "execution_count": 17,
     "metadata": {},
     "output_type": "execute_result"
    },
    {
     "data": {
      "image/png": "[encoded data removed]",
      "text/plain": [
       "<Figure size 432x288 with 1 Axes>"
      ]
     },
     "metadata": {
      "needs_background": "light"
     },
     "output_type": "display_data"
    }
   ],
   "source": [
    "test_B2T = (10**lg_M_star_total - 10**lg_M_star_disk) / 10**lg_M_star_total\n",
    "plt.scatter(B_T,test_B2T)\n",
    "plt.plot([0,1],[0,1],color='k')"
   ]
  },
  {
   "cell_type": "code",
   "execution_count": 18,
   "metadata": {},
   "outputs": [
    {
     "name": "stdout",
     "output_type": "stream",
     "text": [
      "0.0\n",
      "0.0\n",
      "0.0\n",
      "0.0\n",
      "0.0\n"
     ]
    }
   ],
   "source": [
    "for ii,m in enumerate(mydata['Model'][(i>30)&(HI==0)]):\n",
    "    if m ==2:\n",
    "        print(j_star_total_bnr[ii])"
   ]
  },
  {
   "cell_type": "code",
   "execution_count": null,
   "metadata": {},
   "outputs": [],
   "source": []
  },
  {
   "cell_type": "code",
   "execution_count": null,
   "metadata": {},
   "outputs": [],
   "source": []
  }
 ],
 "metadata": {
  "kernelspec": {
   "display_name": "Python 3",
   "language": "python",
   "name": "python3"
  },
  "language_info": {
   "codemirror_mode": {
    "name": "ipython",
    "version": 3
   },
   "file_extension": ".py",
   "mimetype": "text/x-python",
   "name": "python",
   "nbconvert_exporter": "python",
   "pygments_lexer": "ipython3",
   "version": "3.8.3"
  }
 },
 "nbformat": 4,
 "nbformat_minor": 4
}
